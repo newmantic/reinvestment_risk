{
  "nbformat": 4,
  "nbformat_minor": 0,
  "metadata": {
    "colab": {
      "provenance": [],
      "authorship_tag": "ABX9TyPOFd+7s3FAKTX7Wg/fyGTD",
      "include_colab_link": true
    },
    "kernelspec": {
      "name": "python3",
      "display_name": "Python 3"
    },
    "language_info": {
      "name": "python"
    }
  },
  "cells": [
    {
      "cell_type": "markdown",
      "metadata": {
        "id": "view-in-github",
        "colab_type": "text"
      },
      "source": [
        "<a href=\"https://colab.research.google.com/github/newmantic/reinvestment_risk/blob/main/reinvestment_risk.ipynb\" target=\"_parent\"><img src=\"https://colab.research.google.com/assets/colab-badge.svg\" alt=\"Open In Colab\"/></a>"
      ]
    },
    {
      "cell_type": "code",
      "execution_count": 2,
      "metadata": {
        "colab": {
          "base_uri": "https://localhost:8080/"
        },
        "id": "sHBySxHlxvk1",
        "outputId": "1a368275-3d36-4f7d-da30-c849bc83fa0c"
      },
      "outputs": [
        {
          "output_type": "stream",
          "name": "stdout",
          "text": [
            "Year 1: $14833.64\n",
            "Year 2: $14401.59\n",
            "Year 3: $110098.63\n",
            "Year 4: $9804.50\n",
            "Year 5: $105150.00\n",
            "Year 6: $5000.00\n",
            "Year 7: $100000.00\n",
            "Total Cash Flow after Reinvestment: $359288.37\n"
          ]
        }
      ],
      "source": [
        "import numpy as np\n",
        "\n",
        "# Example bond characteristics (laddered portfolio)\n",
        "bonds = [\n",
        "    {\"maturity_years\": 2, \"coupon_rate\": 0.04, \"face_value\": 100000},\n",
        "    {\"maturity_years\": 4, \"coupon_rate\": 0.045, \"face_value\": 100000},\n",
        "    {\"maturity_years\": 6, \"coupon_rate\": 0.05, \"face_value\": 100000},\n",
        "]\n",
        "\n",
        "# Reinvestment rate assumption (current market rate)\n",
        "reinvestment_rate = 0.03  # 3%\n",
        "\n",
        "def calculate_cash_flows(bond, reinvestment_rate):\n",
        "    \"\"\"Calculate the cash flows for a bond, including reinvested coupons.\"\"\"\n",
        "    cash_flows = []\n",
        "    face_value = bond[\"face_value\"]\n",
        "    coupon_payment = bond[\"coupon_rate\"] * face_value\n",
        "    for year in range(1, bond[\"maturity_years\"] + 1):\n",
        "        cash_flow = coupon_payment * ((1 + reinvestment_rate) ** (bond[\"maturity_years\"] - year))\n",
        "        cash_flows.append(cash_flow)\n",
        "    cash_flows.append(face_value)  # Add face value at maturity\n",
        "    return np.array(cash_flows)\n",
        "\n",
        "def total_cash_flows(bonds, reinvestment_rate):\n",
        "    \"\"\"Calculate total cash flows from the bond portfolio.\"\"\"\n",
        "    max_years = max(bond[\"maturity_years\"] for bond in bonds)\n",
        "    total_flows = np.zeros(max_years + 1)  # Adjusted for face value at maturity\n",
        "    for bond in bonds:\n",
        "        cash_flows = calculate_cash_flows(bond, reinvestment_rate)\n",
        "        # Ensure cash_flows is padded with zeros to match max_years\n",
        "        total_flows[:len(cash_flows)] += cash_flows\n",
        "    return total_flows\n",
        "\n",
        "# Testable Example\n",
        "cash_flows = total_cash_flows(bonds, reinvestment_rate)\n",
        "\n",
        "# Display cash flows for each year\n",
        "for year, cash_flow in enumerate(cash_flows, start=1):\n",
        "    print(f\"Year {year}: ${cash_flow:.2f}\")\n",
        "\n",
        "# Total cash flows after reinvestment\n",
        "total_cash_flow = np.sum(cash_flows)\n",
        "print(f\"Total Cash Flow after Reinvestment: ${total_cash_flow:.2f}\")"
      ]
    }
  ]
}